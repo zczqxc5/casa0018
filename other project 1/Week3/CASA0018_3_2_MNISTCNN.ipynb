{
  "cells": [
    {
      "cell_type": "markdown",
      "metadata": {
        "colab_type": "text",
        "id": "view-in-github"
      },
      "source": [
        "<a href=\"https://colab.research.google.com/github/ucl-casa-ce/casa0018/blob/main/Week3/CASA0018_3_2_MNISTCNN.ipynb\" target=\"_parent\"><img src=\"https://colab.research.google.com/assets/colab-badge.svg\" alt=\"Open In Colab\"/></a>"
      ]
    },
    {
      "cell_type": "markdown",
      "metadata": {
        "id": "qnyTxjK_GbOD"
      },
      "source": [
        "# MNIST CNN\n",
        "In this example we are still using the same MNIST dataset but this time we will be using Convolutions to try and improve the accuracy of our model.\n",
        "\n",
        "Information on the NMIST character dataset can be found [here](http://yann.lecun.com/exdb/mnist/).\n",
        "\n",
        "# Importing dependencies\n",
        "Let's start by importing TensorFlow, printing out the version number and create an object that points to the MNIST data via the tf.keras datasets API. How did we know where the dataset was? TensorFlow Datasets provide a list of resources that are easily accessible in the Colabs - a catalogue of what is availabe is at: https://www.tensorflow.org/datasets/catalog/overview)\n"
      ]
    },
    {
      "cell_type": "code",
      "execution_count": 1,
      "metadata": {
        "colab": {
          "base_uri": "https://localhost:8080/"
        },
        "id": "q3KzJyjv3rnA",
        "outputId": "775f61b1-6503-4520-aca8-16c67f7c04ac"
      },
      "outputs": [
        {
          "name": "stdout",
          "output_type": "stream",
          "text": [
            "2.3.0\n"
          ]
        }
      ],
      "source": [
        "import tensorflow as tf\n",
        "print(tf.__version__)\n",
        "mnist = tf.keras.datasets.mnist"
      ]
    },
    {
      "cell_type": "markdown",
      "metadata": {
        "id": "GuoLQQBT4E-_"
      },
      "source": [
        "\n",
        "# Loading the image data\n",
        "Calling **load_data** on the **mnist** object will give you two sets of lists, these will be the training and testing values for the graphics that contain the clothing items and their labels.\n"
      ]
    },
    {
      "cell_type": "code",
      "execution_count": 2,
      "metadata": {
        "colab": {
          "base_uri": "https://localhost:8080/"
        },
        "id": "BTdRgExe4TRB",
        "outputId": "2127560e-acfd-49c9-e825-085aed9a7cfd"
      },
      "outputs": [
        {
          "name": "stdout",
          "output_type": "stream",
          "text": [
            "Downloading data from https://storage.googleapis.com/tensorflow/tf-keras-datasets/mnist.npz\n",
            "11493376/11490434 [==============================] - 0s 0us/step\n"
          ]
        }
      ],
      "source": [
        "(training_images, training_labels), (test_images, test_labels) = mnist.load_data()"
      ]
    },
    {
      "cell_type": "markdown",
      "metadata": {
        "id": "rw395ROx4f5Q"
      },
      "source": [
        "# Exploring the data and preparing it for use\n",
        "What does these values look like? We are going to import a library that helps us display an image and point it to a training image, and a training label to see. Experiment with different indices in the array.\n"
      ]
    },
    {
      "cell_type": "code",
      "execution_count": 3,
      "metadata": {
        "colab": {
          "base_uri": "https://localhost:8080/",
          "height": 299
        },
        "id": "FPc9d3gJ3jWF",
        "outputId": "b1148b04-0c10-435d-ede5-a547445a4f19"
      },
      "outputs": [
        {
          "name": "stdout",
          "output_type": "stream",
          "text": [
            "shape: (28, 28)\n",
            "Label: 0\n"
          ]
        },
        {
          "data": {
            "image/png": "[encoded data removed]",
            "text/plain": [
              "<Figure size 432x288 with 1 Axes>"
            ]
          },
          "metadata": {
            "needs_background": "light",
            "tags": []
          },
          "output_type": "display_data"
        }
      ],
      "source": [
        "sample = 1;\n",
        "print(\"shape:\", training_images[sample].shape)\n",
        "\n",
        "import matplotlib.pyplot as plt\n",
        "plt.imshow(training_images[sample], cmap='gray')\n",
        "print(\"Label:\", training_labels[sample])\n"
      ]
    },
    {
      "cell_type": "markdown",
      "metadata": {
        "id": "3cbrdH225_nH"
      },
      "source": [
        "Each of the 'pixel' values above are between 0 (black) and 255 (white). \n",
        "\n",
        "The first change needed from the previous example is the **input shape**. Previously each image was being passed into the input layer - ie a 28x28 pixel image with 1 colour depth. But now we need to pass in all the data as a single list - ie 60000 images - which means our input tensor is 60000x28x28x1 items in a list. This is also the same for the test data.\n",
        "\n",
        "We still '**normalize**' the data between 0 and 1 in the same way, ie in Python we just need to divide all values by 255.0:"
      ]
    },
    {
      "cell_type": "code",
      "execution_count": 4,
      "metadata": {
        "id": "kRH19pWs6ZDn"
      },
      "outputs": [],
      "source": [
        "training_images=training_images.reshape(60000, 28, 28, 1)\n",
        "training_images=training_images / 255.0\n",
        "test_images = test_images.reshape(10000, 28, 28, 1)\n",
        "test_images=test_images/255.0"
      ]
    },
    {
      "cell_type": "markdown",
      "metadata": {
        "id": "dIn7S9gf62ie"
      },
      "source": [
        "# Building the model\n",
        "To create the sequence of layers in a model we use  '**Sequential**'. The model has 7 layers with the first 4 being a mix of convlution and pooling. \n",
        "\n",
        "We use **Conv2d** to specify a convolution layer and assign **64 convolutions** of size **3x3**, we use a\n",
        "'**relu**' (Rectified Linear Unit - ReLU) activation function which converts any negative value to zero (to keep us between 0 and 1) and define the input shape to be 28x28 pixels with 1 colour depth).\n",
        "\n",
        "In the second layer we use **MaxPooling** to define a pooling layer which compresses the image while maintaining features. By specifying a size **2x2** we are effectively quartering the size of the image. \n",
        "\n",
        "We then repeat the same pattern again for layers 3 and 4.\n",
        "\n",
        "The remaining layers are the same as the previous model architecture. Layer 5 is called '**Flatten**' which takes the previous layer and turns it into a 1 dimensional set. The 6th layer '**Dense**' has 128 neurons and also uses '**relu**' and the 7th layer '**Dense**' has 10 neurons which relate to the 10 MNIST categories. It implements a '**softmax**' activition function which looks at all the probabilities in that layer of neurons and sets the highest value to 1 and all the others to 0 - this makes it programatically easier to find the most likely solution.  \n",
        "\n",
        "Finally we output a model summary - note how many parameters this model creates compared to ones built so far."
      ]
    },
    {
      "cell_type": "code",
      "execution_count": 5,
      "metadata": {
        "colab": {
          "base_uri": "https://localhost:8080/"
        },
        "id": "7mAyndG3kVlK",
        "outputId": "a4fcc6a4-a472-40a3-a007-56a077006e7c"
      },
      "outputs": [
        {
          "name": "stdout",
          "output_type": "stream",
          "text": [
            "Model: \"sequential\"\n",
            "_________________________________________________________________\n",
            "Layer (type)                 Output Shape              Param #   \n",
            "=================================================================\n",
            "conv2d (Conv2D)              (None, 26, 26, 64)        640       \n",
            "_________________________________________________________________\n",
            "max_pooling2d (MaxPooling2D) (None, 13, 13, 64)        0         \n",
            "_________________________________________________________________\n",
            "conv2d_1 (Conv2D)            (None, 11, 11, 64)        36928     \n",
            "_________________________________________________________________\n",
            "max_pooling2d_1 (MaxPooling2 (None, 5, 5, 64)          0         \n",
            "_________________________________________________________________\n",
            "flatten (Flatten)            (None, 1600)              0         \n",
            "_________________________________________________________________\n",
            "dense (Dense)                (None, 128)               204928    \n",
            "_________________________________________________________________\n",
            "dense_1 (Dense)              (None, 10)                1290      \n",
            "=================================================================\n",
            "Total params: 243,786\n",
            "Trainable params: 243,786\n",
            "Non-trainable params: 0\n",
            "_________________________________________________________________\n"
          ]
        }
      ],
      "source": [
        "model = tf.keras.models.Sequential([\n",
        "  tf.keras.layers.Conv2D(64, (3,3), activation='relu', input_shape=(28, 28, 1)),\n",
        "  tf.keras.layers.MaxPooling2D(2, 2),\n",
        "  tf.keras.layers.Conv2D(64, (3,3), activation='relu'),\n",
        "  tf.keras.layers.MaxPooling2D(2,2),\n",
        "  tf.keras.layers.Flatten(),\n",
        "  tf.keras.layers.Dense(128, activation='relu'),\n",
        "  tf.keras.layers.Dense(10, activation='softmax')\n",
        "])\n",
        "model.summary()"
      ]
    },
    {
      "cell_type": "markdown",
      "metadata": {
        "id": "c8vbMCqb9Mh6"
      },
      "source": [
        "After defining the model we build it by compiling with an optimizer and loss function and then train it by calling **model.fit** to fit your training data to your training labels. "
      ]
    },
    {
      "cell_type": "code",
      "execution_count": 6,
      "metadata": {
        "colab": {
          "base_uri": "https://localhost:8080/"
        },
        "id": "BLMdl9aP8nQ0",
        "outputId": "727c4067-8169-47c9-eba2-c180fecb075e"
      },
      "outputs": [
        {
          "name": "stdout",
          "output_type": "stream",
          "text": [
            "Epoch 1/5\n",
            "1875/1875 [==============================] - 4s 2ms/step - loss: 0.1252 - accuracy: 0.9614\n",
            "Epoch 2/5\n",
            "1875/1875 [==============================] - 4s 2ms/step - loss: 0.0412 - accuracy: 0.9871\n",
            "Epoch 3/5\n",
            "1875/1875 [==============================] - 4s 2ms/step - loss: 0.0280 - accuracy: 0.9912\n",
            "Epoch 4/5\n",
            "1875/1875 [==============================] - 4s 2ms/step - loss: 0.0200 - accuracy: 0.9934\n",
            "Epoch 5/5\n",
            "1875/1875 [==============================] - 4s 2ms/step - loss: 0.0156 - accuracy: 0.9950\n"
          ]
        },
        {
          "data": {
            "text/plain": [
              "<tensorflow.python.keras.callbacks.History at 0x7fc2103c17f0>"
            ]
          },
          "execution_count": 6,
          "metadata": {
            "tags": []
          },
          "output_type": "execute_result"
        }
      ],
      "source": [
        "model.compile(optimizer = tf.keras.optimizers.Adam(),\n",
        "              loss = 'sparse_categorical_crossentropy',\n",
        "              metrics=['accuracy'])\n",
        "\n",
        "model.fit(training_images, training_labels, epochs=5)"
      ]
    },
    {
      "cell_type": "markdown",
      "metadata": {
        "id": "-JJMsvSB-1UY"
      },
      "source": [
        "The accuracy value at the end of the final epoch is about 0.99 or about 99% accurate in classifying the training data. I.E., it figured out a pattern match between the image and the labels that worked 99% of the time. Whilst each epoch takes longer to run, this model is more accurate than the previous without the convolutions.\n",
        "\n",
        "Next we can call '**model.evaluate**', and pass in the test data, and it will report back the loss for each. Let's give it a try:"
      ]
    },
    {
      "cell_type": "code",
      "execution_count": 7,
      "metadata": {
        "colab": {
          "base_uri": "https://localhost:8080/"
        },
        "id": "WzlqsEzX9s5P",
        "outputId": "75211a84-9739-4b05-8d7b-2e90e3481f30"
      },
      "outputs": [
        {
          "name": "stdout",
          "output_type": "stream",
          "text": [
            "313/313 [==============================] - 1s 2ms/step - loss: 0.0284 - accuracy: 0.9924\n"
          ]
        },
        {
          "data": {
            "text/plain": [
              "[0.02836291864514351, 0.9923999905586243]"
            ]
          },
          "execution_count": 7,
          "metadata": {
            "tags": []
          },
          "output_type": "execute_result"
        }
      ],
      "source": [
        "model.evaluate(test_images, test_labels)"
      ]
    },
    {
      "cell_type": "markdown",
      "metadata": {
        "id": "6tki-Aro_Uax"
      },
      "source": [
        "For me, that returned a accuracy of about .9895, which means it was about 98.95% accurate. As expected it probably would not do as well with *unseen* data as it did with data it was trained on!  "
      ]
    },
    {
      "cell_type": "markdown",
      "metadata": {
        "id": "vMgOMlE0m0Zi"
      },
      "source": [
        "# Extras\n",
        "\n",
        "If you want to dig deeper into finding out were errors or misclassifications are coming from take a look at **TensorBoard**. It provides a useful tool to check your model results and it makes really useful visualisations for sharing your results. \n",
        "\n",
        "The example below shows a quick way of \"seeing\" a confusion matrix of the results. \n"
      ]
    },
    {
      "cell_type": "code",
      "execution_count": 14,
      "metadata": {
        "colab": {
          "base_uri": "https://localhost:8080/"
        },
        "id": "xtgbnkKKdUXM",
        "outputId": "83ec2e12-8bbe-4fa0-bec3-8bfd8f5cce6b"
      },
      "outputs": [
        {
          "name": "stdout",
          "output_type": "stream",
          "text": [
            "tf.Tensor(\n",
            "[[ 978    1    0    0    0    0    0    1    0    0]\n",
            " [   0 1128    1    4    0    0    0    1    0    1]\n",
            " [   0    0 1030    0    0    0    0    2    0    0]\n",
            " [   0    0    1 1008    0    0    0    0    1    0]\n",
            " [   1    0    0    0  975    0    2    1    1    2]\n",
            " [   1    0    0   12    0  878    1    0    0    0]\n",
            " [   5    2    0    0    2    1  947    0    1    0]\n",
            " [   0    2    4    0    1    0    0 1018    1    2]\n",
            " [   0    0    1    1    0    1    0    0  970    1]\n",
            " [   0    1    0    5    4    4    0    2    1  992]], shape=(10, 10), dtype=int32)\n"
          ]
        }
      ],
      "source": [
        "import numpy as np \n",
        "test_predictions = np.argmax(model.predict(test_images),axis=-1)\n",
        "#test_predictions = model.predict_classes(test_images) - deprecated in TF 2.6\n",
        "result = tf.math.confusion_matrix(test_labels, test_predictions)\n",
        "print(result)"
      ]
    },
    {
      "cell_type": "markdown",
      "metadata": {
        "id": "JRf6pFddoXJ6"
      },
      "source": [
        "To see how you can visualise this in TensorBoard take a look at these two links:\n",
        "\n",
        "\n",
        "1.   [Intro to TensorBoard](https://colab.research.google.com/github/tensorflow/tensorboard/blob/master/docs/get_started.ipynb#scrollTo=-Iue509kgOyE)\n",
        "2.   [Displaying image data in TensorBoard](https://colab.research.google.com/github/tensorflow/tensorboard/blob/master/docs/image_summaries.ipynb)\n"
      ]
    }
  ],
  "metadata": {
    "accelerator": "GPU",
    "colab": {
      "collapsed_sections": [],
      "include_colab_link": true,
      "name": "CASA0018-2-2-MNISTCNN.ipynb",
      "provenance": [],
      "toc_visible": true
    },
    "kernelspec": {
      "display_name": "Python 3",
      "name": "python3"
    }
  },
  "nbformat": 4,
  "nbformat_minor": 0
}
