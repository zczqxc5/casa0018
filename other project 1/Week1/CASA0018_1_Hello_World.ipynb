{
  "nbformat": 4,
  "nbformat_minor": 0,
  "metadata": {
    "colab": {
      "name": "CASA0018_1_Hello World",
      "provenance": [],
      "collapsed_sections": [],
      "toc_visible": true,
      "include_colab_link": true
    },
    "kernelspec": {
      "name": "python3",
      "display_name": "Python 3"
    }
  },
  "cells": [
    {
      "cell_type": "markdown",
      "metadata": {
        "id": "view-in-github",
        "colab_type": "text"
      },
      "source": [
        "<a href=\"https://colab.research.google.com/github/djdunc/casa0018/blob/main/Week1/CASA0018_1_Hello_World.ipynb\" target=\"_parent\"><img src=\"https://colab.research.google.com/assets/colab-badge.svg\" alt=\"Open In Colab\"/></a>"
      ]
    },
    {
      "cell_type": "markdown",
      "metadata": {
        "id": "ZIAkIlfmCe1B"
      },
      "source": [
        "# The Hello World of Deep Learning with Neural Networks"
      ]
    },
    {
      "cell_type": "markdown",
      "metadata": {
        "id": "DzbtdRcZDO9B"
      },
      "source": [
        "## Imports\n",
        "\n",
        "Import **TensorFlow** and **numpy** (the latter helps us to represent our data as lists easily and quickly). The framework for defining a neural network as a set of sequential layers is called **keras**. Keras is a **deep learning** API written in Python, running on top of the **machine learning** platform TensorFlow."
      ]
    },
    {
      "cell_type": "code",
      "metadata": {
        "id": "X9uIpOS2zx7k"
      },
      "source": [
        "import tensorflow as tf\n",
        "import numpy as np\n",
        "from tensorflow import keras"
      ],
      "execution_count": null,
      "outputs": []
    },
    {
      "cell_type": "markdown",
      "metadata": {
        "id": "5QyOUhFw1OUX"
      },
      "source": [
        "## Providing the Data\n",
        "\n",
        "Next up we'll feed in some data. Can you guess what the relationshop is between this data? (If you are not familiar with 'Numpy' it is worth taking a look at the pre-course Python training)."
      ]
    },
    {
      "cell_type": "code",
      "metadata": {
        "id": "4Dxk4q-jzEy4"
      },
      "source": [
        "xs = np.array([-1.0, 0.0, 1.0, 2.0, 3.0, 4.0], dtype=float)\n",
        "ys = np.array([-2.0, 1.0, 4.0, 7.0, 10.0, 13.0], dtype=float)"
      ],
      "execution_count": null,
      "outputs": []
    },
    {
      "cell_type": "markdown",
      "metadata": {
        "id": "wwJGmDrQ0EoB"
      },
      "source": [
        "## Define and Compile the Neural Network\n",
        "\n",
        "Next we will create the simplest possible neural network using the keras **Sequential** function. This allows us to add layers sequentially to the model that describe the inputs, outputs and hidden layers of the neural network. We define the **input shape** to have a value of 1 (ie x). We then add one Dense **layer** with a size of 1  neuron. The **Dense** function describes a network layer where all neurons are connected to all other neurons. However, in the example below we have the simpest model possible which is just one neuron that receives one input and generates a single output."
      ]
    },
    {
      "cell_type": "code",
      "metadata": {
        "id": "kQFAr_xo0M4T"
      },
      "source": [
        "model = tf.keras.Sequential()\n",
        "model.add(tf.keras.Input(shape=(1,)))\n",
        "model.add(tf.keras.layers.Dense(1,))\n",
        "#model.summary()"
      ],
      "execution_count": null,
      "outputs": []
    },
    {
      "cell_type": "markdown",
      "metadata": {
        "id": "KhjZjZ-c0Ok9"
      },
      "source": [
        "Now we compile our Neural Network and we specify 2 functions, a loss and an optimizer. The LOSS function measures the guessed answer against the known correct answers. The OPTIMIZER function will try to minimize the loss. Here we use 'MEAN SQUARED ERROR' for the loss and 'STOCHASTIC GRADIENT DESCENT' for the optimizer."
      ]
    },
    {
      "cell_type": "code",
      "metadata": {
        "id": "m8YQN1H41L-Y"
      },
      "source": [
        "model.compile(optimizer='sgd', loss='mean_squared_error')"
      ],
      "execution_count": null,
      "outputs": []
    },
    {
      "cell_type": "markdown",
      "metadata": {
        "id": "n_YcWRElnM_b"
      },
      "source": [
        "# Training the Neural Network"
      ]
    },
    {
      "cell_type": "markdown",
      "metadata": {
        "id": "c-Jk4dG91dvD"
      },
      "source": [
        "The process of training the neural network, where it 'learns' the relationship between the Xs and Ys is in the **model.fit**  call. It loops for a number of epochs, making a guess, measuring the loss and using the opimizer to make another guess. In the results you can see the loss on the right hand side for each guess."
      ]
    },
    {
      "cell_type": "code",
      "metadata": {
        "id": "lpRrl7WK10Pq",
        "outputId": "865d1d9b-4baa-4099-bbc9-52da2517b2f0",
        "colab": {
          "base_uri": "https://localhost:8080/",
          "height": 1000
        }
      },
      "source": [
        "model.fit(xs, ys, epochs=200)"
      ],
      "execution_count": null,
      "outputs": [
        {
          "output_type": "stream",
          "text": [
            "Epoch 1/200\n",
            "1/1 [==============================] - 0s 1ms/step - loss: 0.0056\n",
            "Epoch 2/200\n",
            "1/1 [==============================] - 0s 2ms/step - loss: 0.0055\n",
            "Epoch 3/200\n",
            "1/1 [==============================] - 0s 2ms/step - loss: 0.0053\n",
            "Epoch 4/200\n",
            "1/1 [==============================] - 0s 2ms/step - loss: 0.0052\n",
            "Epoch 5/200\n",
            "1/1 [==============================] - 0s 2ms/step - loss: 0.0051\n",
            "Epoch 6/200\n",
            "1/1 [==============================] - 0s 1ms/step - loss: 0.0050\n",
            "Epoch 7/200\n",
            "1/1 [==============================] - 0s 2ms/step - loss: 0.0049\n",
            "Epoch 8/200\n",
            "1/1 [==============================] - 0s 2ms/step - loss: 0.0048\n",
            "Epoch 9/200\n",
            "1/1 [==============================] - 0s 2ms/step - loss: 0.0047\n",
            "Epoch 10/200\n",
            "1/1 [==============================] - 0s 2ms/step - loss: 0.0046\n",
            "Epoch 11/200\n",
            "1/1 [==============================] - 0s 1ms/step - loss: 0.0045\n",
            "Epoch 12/200\n",
            "1/1 [==============================] - 0s 2ms/step - loss: 0.0044\n",
            "Epoch 13/200\n",
            "1/1 [==============================] - 0s 2ms/step - loss: 0.0043\n",
            "Epoch 14/200\n",
            "1/1 [==============================] - 0s 1ms/step - loss: 0.0043\n",
            "Epoch 15/200\n",
            "1/1 [==============================] - 0s 2ms/step - loss: 0.0042\n",
            "Epoch 16/200\n",
            "1/1 [==============================] - 0s 2ms/step - loss: 0.0041\n",
            "Epoch 17/200\n",
            "1/1 [==============================] - 0s 2ms/step - loss: 0.0040\n",
            "Epoch 18/200\n",
            "1/1 [==============================] - 0s 2ms/step - loss: 0.0039\n",
            "Epoch 19/200\n",
            "1/1 [==============================] - 0s 2ms/step - loss: 0.0038\n",
            "Epoch 20/200\n",
            "1/1 [==============================] - 0s 2ms/step - loss: 0.0038\n",
            "Epoch 21/200\n",
            "1/1 [==============================] - 0s 2ms/step - loss: 0.0037\n",
            "Epoch 22/200\n",
            "1/1 [==============================] - 0s 2ms/step - loss: 0.0036\n",
            "Epoch 23/200\n",
            "1/1 [==============================] - 0s 1ms/step - loss: 0.0035\n",
            "Epoch 24/200\n",
            "1/1 [==============================] - 0s 1ms/step - loss: 0.0035\n",
            "Epoch 25/200\n",
            "1/1 [==============================] - 0s 1ms/step - loss: 0.0034\n",
            "Epoch 26/200\n",
            "1/1 [==============================] - 0s 1ms/step - loss: 0.0033\n",
            "Epoch 27/200\n",
            "1/1 [==============================] - 0s 1ms/step - loss: 0.0032\n",
            "Epoch 28/200\n",
            "1/1 [==============================] - 0s 1ms/step - loss: 0.0032\n",
            "Epoch 29/200\n",
            "1/1 [==============================] - 0s 2ms/step - loss: 0.0031\n",
            "Epoch 30/200\n",
            "1/1 [==============================] - 0s 2ms/step - loss: 0.0031\n",
            "Epoch 31/200\n",
            "1/1 [==============================] - 0s 1ms/step - loss: 0.0030\n",
            "Epoch 32/200\n",
            "1/1 [==============================] - 0s 1ms/step - loss: 0.0029\n",
            "Epoch 33/200\n",
            "1/1 [==============================] - 0s 2ms/step - loss: 0.0029\n",
            "Epoch 34/200\n",
            "1/1 [==============================] - 0s 2ms/step - loss: 0.0028\n",
            "Epoch 35/200\n",
            "1/1 [==============================] - 0s 2ms/step - loss: 0.0028\n",
            "Epoch 36/200\n",
            "1/1 [==============================] - 0s 2ms/step - loss: 0.0027\n",
            "Epoch 37/200\n",
            "1/1 [==============================] - 0s 2ms/step - loss: 0.0026\n",
            "Epoch 38/200\n",
            "1/1 [==============================] - 0s 2ms/step - loss: 0.0026\n",
            "Epoch 39/200\n",
            "1/1 [==============================] - 0s 2ms/step - loss: 0.0025\n",
            "Epoch 40/200\n",
            "1/1 [==============================] - 0s 2ms/step - loss: 0.0025\n",
            "Epoch 41/200\n",
            "1/1 [==============================] - 0s 2ms/step - loss: 0.0024\n",
            "Epoch 42/200\n",
            "1/1 [==============================] - 0s 2ms/step - loss: 0.0024\n",
            "Epoch 43/200\n",
            "1/1 [==============================] - 0s 2ms/step - loss: 0.0023\n",
            "Epoch 44/200\n",
            "1/1 [==============================] - 0s 2ms/step - loss: 0.0023\n",
            "Epoch 45/200\n",
            "1/1 [==============================] - 0s 1ms/step - loss: 0.0022\n",
            "Epoch 46/200\n",
            "1/1 [==============================] - 0s 2ms/step - loss: 0.0022\n",
            "Epoch 47/200\n",
            "1/1 [==============================] - 0s 2ms/step - loss: 0.0021\n",
            "Epoch 48/200\n",
            "1/1 [==============================] - 0s 2ms/step - loss: 0.0021\n",
            "Epoch 49/200\n",
            "1/1 [==============================] - 0s 2ms/step - loss: 0.0021\n",
            "Epoch 50/200\n",
            "1/1 [==============================] - 0s 2ms/step - loss: 0.0020\n",
            "Epoch 51/200\n",
            "1/1 [==============================] - 0s 2ms/step - loss: 0.0020\n",
            "Epoch 52/200\n",
            "1/1 [==============================] - 0s 2ms/step - loss: 0.0019\n",
            "Epoch 53/200\n",
            "1/1 [==============================] - 0s 2ms/step - loss: 0.0019\n",
            "Epoch 54/200\n",
            "1/1 [==============================] - 0s 2ms/step - loss: 0.0019\n",
            "Epoch 55/200\n",
            "1/1 [==============================] - 0s 2ms/step - loss: 0.0018\n",
            "Epoch 56/200\n",
            "1/1 [==============================] - 0s 2ms/step - loss: 0.0018\n",
            "Epoch 57/200\n",
            "1/1 [==============================] - 0s 2ms/step - loss: 0.0017\n",
            "Epoch 58/200\n",
            "1/1 [==============================] - 0s 2ms/step - loss: 0.0017\n",
            "Epoch 59/200\n",
            "1/1 [==============================] - 0s 2ms/step - loss: 0.0017\n",
            "Epoch 60/200\n",
            "1/1 [==============================] - 0s 2ms/step - loss: 0.0016\n",
            "Epoch 61/200\n",
            "1/1 [==============================] - 0s 3ms/step - loss: 0.0016\n",
            "Epoch 62/200\n",
            "1/1 [==============================] - 0s 2ms/step - loss: 0.0016\n",
            "Epoch 63/200\n",
            "1/1 [==============================] - 0s 8ms/step - loss: 0.0015\n",
            "Epoch 64/200\n",
            "1/1 [==============================] - 0s 2ms/step - loss: 0.0015\n",
            "Epoch 65/200\n",
            "1/1 [==============================] - 0s 2ms/step - loss: 0.0015\n",
            "Epoch 66/200\n",
            "1/1 [==============================] - 0s 1ms/step - loss: 0.0014\n",
            "Epoch 67/200\n",
            "1/1 [==============================] - 0s 1ms/step - loss: 0.0014\n",
            "Epoch 68/200\n",
            "1/1 [==============================] - 0s 2ms/step - loss: 0.0014\n",
            "Epoch 69/200\n",
            "1/1 [==============================] - 0s 2ms/step - loss: 0.0014\n",
            "Epoch 70/200\n",
            "1/1 [==============================] - 0s 2ms/step - loss: 0.0013\n",
            "Epoch 71/200\n",
            "1/1 [==============================] - 0s 3ms/step - loss: 0.0013\n",
            "Epoch 72/200\n",
            "1/1 [==============================] - 0s 2ms/step - loss: 0.0013\n",
            "Epoch 73/200\n",
            "1/1 [==============================] - 0s 2ms/step - loss: 0.0013\n",
            "Epoch 74/200\n",
            "1/1 [==============================] - 0s 2ms/step - loss: 0.0012\n",
            "Epoch 75/200\n",
            "1/1 [==============================] - 0s 1ms/step - loss: 0.0012\n",
            "Epoch 76/200\n",
            "1/1 [==============================] - 0s 2ms/step - loss: 0.0012\n",
            "Epoch 77/200\n",
            "1/1 [==============================] - 0s 2ms/step - loss: 0.0012\n",
            "Epoch 78/200\n",
            "1/1 [==============================] - 0s 2ms/step - loss: 0.0011\n",
            "Epoch 79/200\n",
            "1/1 [==============================] - 0s 2ms/step - loss: 0.0011\n",
            "Epoch 80/200\n",
            "1/1 [==============================] - 0s 2ms/step - loss: 0.0011\n",
            "Epoch 81/200\n",
            "1/1 [==============================] - 0s 1ms/step - loss: 0.0011\n",
            "Epoch 82/200\n",
            "1/1 [==============================] - 0s 3ms/step - loss: 0.0010\n",
            "Epoch 83/200\n",
            "1/1 [==============================] - 0s 2ms/step - loss: 0.0010\n",
            "Epoch 84/200\n",
            "1/1 [==============================] - 0s 2ms/step - loss: 9.9487e-04\n",
            "Epoch 85/200\n",
            "1/1 [==============================] - 0s 2ms/step - loss: 9.7444e-04\n",
            "Epoch 86/200\n",
            "1/1 [==============================] - 0s 2ms/step - loss: 9.5443e-04\n",
            "Epoch 87/200\n",
            "1/1 [==============================] - 0s 2ms/step - loss: 9.3482e-04\n",
            "Epoch 88/200\n",
            "1/1 [==============================] - 0s 2ms/step - loss: 9.1562e-04\n",
            "Epoch 89/200\n",
            "1/1 [==============================] - 0s 2ms/step - loss: 8.9681e-04\n",
            "Epoch 90/200\n",
            "1/1 [==============================] - 0s 2ms/step - loss: 8.7840e-04\n",
            "Epoch 91/200\n",
            "1/1 [==============================] - 0s 2ms/step - loss: 8.6035e-04\n",
            "Epoch 92/200\n",
            "1/1 [==============================] - 0s 2ms/step - loss: 8.4268e-04\n",
            "Epoch 93/200\n",
            "1/1 [==============================] - 0s 4ms/step - loss: 8.2537e-04\n",
            "Epoch 94/200\n",
            "1/1 [==============================] - 0s 4ms/step - loss: 8.0842e-04\n",
            "Epoch 95/200\n",
            "1/1 [==============================] - 0s 2ms/step - loss: 7.9181e-04\n",
            "Epoch 96/200\n",
            "1/1 [==============================] - 0s 2ms/step - loss: 7.7555e-04\n",
            "Epoch 97/200\n",
            "1/1 [==============================] - 0s 2ms/step - loss: 7.5962e-04\n",
            "Epoch 98/200\n",
            "1/1 [==============================] - 0s 2ms/step - loss: 7.4401e-04\n",
            "Epoch 99/200\n",
            "1/1 [==============================] - 0s 2ms/step - loss: 7.2872e-04\n",
            "Epoch 100/200\n",
            "1/1 [==============================] - 0s 2ms/step - loss: 7.1376e-04\n",
            "Epoch 101/200\n",
            "1/1 [==============================] - 0s 2ms/step - loss: 6.9910e-04\n",
            "Epoch 102/200\n",
            "1/1 [==============================] - 0s 2ms/step - loss: 6.8474e-04\n",
            "Epoch 103/200\n",
            "1/1 [==============================] - 0s 2ms/step - loss: 6.7067e-04\n",
            "Epoch 104/200\n",
            "1/1 [==============================] - 0s 2ms/step - loss: 6.5690e-04\n",
            "Epoch 105/200\n",
            "1/1 [==============================] - 0s 2ms/step - loss: 6.4341e-04\n",
            "Epoch 106/200\n",
            "1/1 [==============================] - 0s 2ms/step - loss: 6.3019e-04\n",
            "Epoch 107/200\n",
            "1/1 [==============================] - 0s 2ms/step - loss: 6.1724e-04\n",
            "Epoch 108/200\n",
            "1/1 [==============================] - 0s 2ms/step - loss: 6.0456e-04\n",
            "Epoch 109/200\n",
            "1/1 [==============================] - 0s 1ms/step - loss: 5.9215e-04\n",
            "Epoch 110/200\n",
            "1/1 [==============================] - 0s 2ms/step - loss: 5.7999e-04\n",
            "Epoch 111/200\n",
            "1/1 [==============================] - 0s 2ms/step - loss: 5.6807e-04\n",
            "Epoch 112/200\n",
            "1/1 [==============================] - 0s 2ms/step - loss: 5.5640e-04\n",
            "Epoch 113/200\n",
            "1/1 [==============================] - 0s 1ms/step - loss: 5.4497e-04\n",
            "Epoch 114/200\n",
            "1/1 [==============================] - 0s 2ms/step - loss: 5.3378e-04\n",
            "Epoch 115/200\n",
            "1/1 [==============================] - 0s 2ms/step - loss: 5.2282e-04\n",
            "Epoch 116/200\n",
            "1/1 [==============================] - 0s 2ms/step - loss: 5.1208e-04\n",
            "Epoch 117/200\n",
            "1/1 [==============================] - 0s 1ms/step - loss: 5.0156e-04\n",
            "Epoch 118/200\n",
            "1/1 [==============================] - 0s 2ms/step - loss: 4.9126e-04\n",
            "Epoch 119/200\n",
            "1/1 [==============================] - 0s 2ms/step - loss: 4.8116e-04\n",
            "Epoch 120/200\n",
            "1/1 [==============================] - 0s 2ms/step - loss: 4.7128e-04\n",
            "Epoch 121/200\n",
            "1/1 [==============================] - 0s 2ms/step - loss: 4.6160e-04\n",
            "Epoch 122/200\n",
            "1/1 [==============================] - 0s 3ms/step - loss: 4.5212e-04\n",
            "Epoch 123/200\n",
            "1/1 [==============================] - 0s 3ms/step - loss: 4.4284e-04\n",
            "Epoch 124/200\n",
            "1/1 [==============================] - 0s 2ms/step - loss: 4.3374e-04\n",
            "Epoch 125/200\n",
            "1/1 [==============================] - 0s 2ms/step - loss: 4.2483e-04\n",
            "Epoch 126/200\n",
            "1/1 [==============================] - 0s 2ms/step - loss: 4.1611e-04\n",
            "Epoch 127/200\n",
            "1/1 [==============================] - 0s 3ms/step - loss: 4.0756e-04\n",
            "Epoch 128/200\n",
            "1/1 [==============================] - 0s 6ms/step - loss: 3.9919e-04\n",
            "Epoch 129/200\n",
            "1/1 [==============================] - 0s 2ms/step - loss: 3.9099e-04\n",
            "Epoch 130/200\n",
            "1/1 [==============================] - 0s 2ms/step - loss: 3.8296e-04\n",
            "Epoch 131/200\n",
            "1/1 [==============================] - 0s 6ms/step - loss: 3.7509e-04\n",
            "Epoch 132/200\n",
            "1/1 [==============================] - 0s 2ms/step - loss: 3.6739e-04\n",
            "Epoch 133/200\n",
            "1/1 [==============================] - 0s 2ms/step - loss: 3.5984e-04\n",
            "Epoch 134/200\n",
            "1/1 [==============================] - 0s 3ms/step - loss: 3.5245e-04\n",
            "Epoch 135/200\n",
            "1/1 [==============================] - 0s 5ms/step - loss: 3.4521e-04\n",
            "Epoch 136/200\n",
            "1/1 [==============================] - 0s 2ms/step - loss: 3.3812e-04\n",
            "Epoch 137/200\n",
            "1/1 [==============================] - 0s 2ms/step - loss: 3.3117e-04\n",
            "Epoch 138/200\n",
            "1/1 [==============================] - 0s 3ms/step - loss: 3.2437e-04\n",
            "Epoch 139/200\n",
            "1/1 [==============================] - 0s 2ms/step - loss: 3.1771e-04\n",
            "Epoch 140/200\n",
            "1/1 [==============================] - 0s 4ms/step - loss: 3.1118e-04\n",
            "Epoch 141/200\n",
            "1/1 [==============================] - 0s 12ms/step - loss: 3.0479e-04\n",
            "Epoch 142/200\n",
            "1/1 [==============================] - 0s 6ms/step - loss: 2.9853e-04\n",
            "Epoch 143/200\n",
            "1/1 [==============================] - 0s 10ms/step - loss: 2.9239e-04\n",
            "Epoch 144/200\n",
            "1/1 [==============================] - 0s 1ms/step - loss: 2.8639e-04\n",
            "Epoch 145/200\n",
            "1/1 [==============================] - 0s 1ms/step - loss: 2.8051e-04\n",
            "Epoch 146/200\n",
            "1/1 [==============================] - 0s 922us/step - loss: 2.7475e-04\n",
            "Epoch 147/200\n",
            "1/1 [==============================] - 0s 989us/step - loss: 2.6910e-04\n",
            "Epoch 148/200\n",
            "1/1 [==============================] - 0s 6ms/step - loss: 2.6358e-04\n",
            "Epoch 149/200\n",
            "1/1 [==============================] - 0s 1ms/step - loss: 2.5816e-04\n",
            "Epoch 150/200\n",
            "1/1 [==============================] - 0s 2ms/step - loss: 2.5286e-04\n",
            "Epoch 151/200\n",
            "1/1 [==============================] - 0s 3ms/step - loss: 2.4767e-04\n",
            "Epoch 152/200\n",
            "1/1 [==============================] - 0s 1ms/step - loss: 2.4258e-04\n",
            "Epoch 153/200\n",
            "1/1 [==============================] - 0s 4ms/step - loss: 2.3760e-04\n",
            "Epoch 154/200\n",
            "1/1 [==============================] - 0s 3ms/step - loss: 2.3272e-04\n",
            "Epoch 155/200\n",
            "1/1 [==============================] - 0s 4ms/step - loss: 2.2794e-04\n",
            "Epoch 156/200\n",
            "1/1 [==============================] - 0s 4ms/step - loss: 2.2326e-04\n",
            "Epoch 157/200\n",
            "1/1 [==============================] - 0s 2ms/step - loss: 2.1867e-04\n",
            "Epoch 158/200\n",
            "1/1 [==============================] - 0s 4ms/step - loss: 2.1418e-04\n",
            "Epoch 159/200\n",
            "1/1 [==============================] - 0s 2ms/step - loss: 2.0978e-04\n",
            "Epoch 160/200\n",
            "1/1 [==============================] - 0s 6ms/step - loss: 2.0547e-04\n",
            "Epoch 161/200\n",
            "1/1 [==============================] - 0s 3ms/step - loss: 2.0125e-04\n",
            "Epoch 162/200\n",
            "1/1 [==============================] - 0s 2ms/step - loss: 1.9712e-04\n",
            "Epoch 163/200\n",
            "1/1 [==============================] - 0s 3ms/step - loss: 1.9307e-04\n",
            "Epoch 164/200\n",
            "1/1 [==============================] - 0s 2ms/step - loss: 1.8910e-04\n",
            "Epoch 165/200\n",
            "1/1 [==============================] - 0s 3ms/step - loss: 1.8522e-04\n",
            "Epoch 166/200\n",
            "1/1 [==============================] - 0s 3ms/step - loss: 1.8141e-04\n",
            "Epoch 167/200\n",
            "1/1 [==============================] - 0s 2ms/step - loss: 1.7769e-04\n",
            "Epoch 168/200\n",
            "1/1 [==============================] - 0s 4ms/step - loss: 1.7404e-04\n",
            "Epoch 169/200\n",
            "1/1 [==============================] - 0s 5ms/step - loss: 1.7047e-04\n",
            "Epoch 170/200\n",
            "1/1 [==============================] - 0s 8ms/step - loss: 1.6696e-04\n",
            "Epoch 171/200\n",
            "1/1 [==============================] - 0s 5ms/step - loss: 1.6353e-04\n",
            "Epoch 172/200\n",
            "1/1 [==============================] - 0s 5ms/step - loss: 1.6017e-04\n",
            "Epoch 173/200\n",
            "1/1 [==============================] - 0s 4ms/step - loss: 1.5688e-04\n",
            "Epoch 174/200\n",
            "1/1 [==============================] - 0s 3ms/step - loss: 1.5366e-04\n",
            "Epoch 175/200\n",
            "1/1 [==============================] - 0s 5ms/step - loss: 1.5051e-04\n",
            "Epoch 176/200\n",
            "1/1 [==============================] - 0s 2ms/step - loss: 1.4741e-04\n",
            "Epoch 177/200\n",
            "1/1 [==============================] - 0s 2ms/step - loss: 1.4439e-04\n",
            "Epoch 178/200\n",
            "1/1 [==============================] - 0s 1ms/step - loss: 1.4142e-04\n",
            "Epoch 179/200\n",
            "1/1 [==============================] - 0s 4ms/step - loss: 1.3851e-04\n",
            "Epoch 180/200\n",
            "1/1 [==============================] - 0s 1ms/step - loss: 1.3567e-04\n",
            "Epoch 181/200\n",
            "1/1 [==============================] - 0s 2ms/step - loss: 1.3288e-04\n",
            "Epoch 182/200\n",
            "1/1 [==============================] - 0s 1ms/step - loss: 1.3016e-04\n",
            "Epoch 183/200\n",
            "1/1 [==============================] - 0s 9ms/step - loss: 1.2748e-04\n",
            "Epoch 184/200\n",
            "1/1 [==============================] - 0s 8ms/step - loss: 1.2486e-04\n",
            "Epoch 185/200\n",
            "1/1 [==============================] - 0s 3ms/step - loss: 1.2230e-04\n",
            "Epoch 186/200\n",
            "1/1 [==============================] - 0s 2ms/step - loss: 1.1979e-04\n",
            "Epoch 187/200\n",
            "1/1 [==============================] - 0s 3ms/step - loss: 1.1732e-04\n",
            "Epoch 188/200\n",
            "1/1 [==============================] - 0s 5ms/step - loss: 1.1491e-04\n",
            "Epoch 189/200\n",
            "1/1 [==============================] - 0s 7ms/step - loss: 1.1255e-04\n",
            "Epoch 190/200\n",
            "1/1 [==============================] - 0s 2ms/step - loss: 1.1024e-04\n",
            "Epoch 191/200\n",
            "1/1 [==============================] - 0s 784us/step - loss: 1.0798e-04\n",
            "Epoch 192/200\n",
            "1/1 [==============================] - 0s 3ms/step - loss: 1.0576e-04\n",
            "Epoch 193/200\n",
            "1/1 [==============================] - 0s 821us/step - loss: 1.0359e-04\n",
            "Epoch 194/200\n",
            "1/1 [==============================] - 0s 1ms/step - loss: 1.0146e-04\n",
            "Epoch 195/200\n",
            "1/1 [==============================] - 0s 1ms/step - loss: 9.9379e-05\n",
            "Epoch 196/200\n",
            "1/1 [==============================] - 0s 2ms/step - loss: 9.7336e-05\n",
            "Epoch 197/200\n",
            "1/1 [==============================] - 0s 2ms/step - loss: 9.5337e-05\n",
            "Epoch 198/200\n",
            "1/1 [==============================] - 0s 1ms/step - loss: 9.3378e-05\n",
            "Epoch 199/200\n",
            "1/1 [==============================] - 0s 2ms/step - loss: 9.1458e-05\n",
            "Epoch 200/200\n",
            "1/1 [==============================] - 0s 4ms/step - loss: 8.9580e-05\n"
          ],
          "name": "stdout"
        },
        {
          "output_type": "execute_result",
          "data": {
            "text/plain": [
              "<tensorflow.python.keras.callbacks.History at 0x7f0fabd5fcf8>"
            ]
          },
          "metadata": {
            "tags": []
          },
          "execution_count": 7
        }
      ]
    },
    {
      "cell_type": "markdown",
      "metadata": {
        "id": "kaFIr71H2OZ-"
      },
      "source": [
        "Now we have a model you can use the **model.predict** method to have it figure out the Y for a previously unknown X. "
      ]
    },
    {
      "cell_type": "code",
      "metadata": {
        "id": "oxNzL4lS2Gui",
        "outputId": "2821efcf-edcf-47e9-9378-a6c0d2cc9f0b",
        "colab": {
          "base_uri": "https://localhost:8080/",
          "height": 34
        }
      },
      "source": [
        "print(model.predict([10]))"
      ],
      "execution_count": null,
      "outputs": [
        {
          "output_type": "stream",
          "text": [
            "[[30.972387]]\n"
          ],
          "name": "stdout"
        }
      ]
    }
  ]
}